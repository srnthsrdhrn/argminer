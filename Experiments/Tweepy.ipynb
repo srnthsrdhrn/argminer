{
 "cells": [
  {
   "cell_type": "code",
   "execution_count": 1,
   "metadata": {},
   "outputs": [],
   "source": [
    "from tweepy import AppAuthHandler, TweepError\n",
    "from tweepy.models import User as TweepyUser, Status\n",
    "import tweepy"
   ]
  },
  {
   "cell_type": "code",
   "execution_count": 2,
   "metadata": {},
   "outputs": [],
   "source": [
    "consumer_key = \"5pFpPxoMDcJpd6OaHyjfoWA1A\"\n",
    "consumer_secret = \"akg4oPOUDkx0RDVwAtuwyNd8TbF7C9MHct5pD0gabQVFhllv0E\"\n",
    "auth = AppAuthHandler(consumer_key=consumer_key, consumer_secret=consumer_secret)\n",
    "api = tweepy.API(auth, wait_on_rate_limit=True,wait_on_rate_limit_notify=True)"
   ]
  },
  {
   "cell_type": "code",
   "execution_count": 4,
   "metadata": {},
   "outputs": [],
   "source": [
    "keyword = \"#bjp\"\n",
    "tweet_count = 100"
   ]
  },
  {
   "cell_type": "code",
   "execution_count": 24,
   "metadata": {},
   "outputs": [],
   "source": [
    "tweets = tweepy.Cursor(api.search, q=keyword, lang='en', count=tweet_count,\n",
    "                             tweet_mode='extended')"
   ]
  },
  {
   "cell_type": "code",
   "execution_count": 25,
   "metadata": {},
   "outputs": [],
   "source": [
    "search_tweets = tweets.iterator.next()"
   ]
  },
  {
   "cell_type": "code",
   "execution_count": 26,
   "metadata": {},
   "outputs": [],
   "source": [
    "t = search_tweets[0]"
   ]
  },
  {
   "cell_type": "code",
   "execution_count": 27,
   "metadata": {},
   "outputs": [
    {
     "data": {
      "text/plain": [
       "'RT @RijulJK: Dear Gujaratis,\\n\\nIf you want your dirty Sabarmati to be as clean as #Yamuna river, please vote for AAP. Else, trust #BJP and v…'"
      ]
     },
     "execution_count": 27,
     "metadata": {},
     "output_type": "execute_result"
    }
   ],
   "source": [
    "t.full_text"
   ]
  },
  {
   "cell_type": "code",
   "execution_count": 36,
   "metadata": {},
   "outputs": [],
   "source": [
    "def get_full_text(tweet):\n",
    "    status = api.get_status(tweet.id, tweet_mode=\"extended\")\n",
    "    try:\n",
    "        full_text = status.retweeted_status.full_text\n",
    "    except AttributeError:  # Not a Retweet\n",
    "        full_text = status.full_text\n",
    "    return full_text"
   ]
  },
  {
   "cell_type": "code",
   "execution_count": 37,
   "metadata": {},
   "outputs": [],
   "source": [
    "t.full_text = get_full_text(t)"
   ]
  },
  {
   "cell_type": "code",
   "execution_count": null,
   "metadata": {},
   "outputs": [],
   "source": [
    "tweet_dataset = TwitterDataset()\n",
    "progress = tqdm()\n",
    "while True:\n",
    "    try:\n",
    "        search_tweets = tweets.iterator.next()\n",
    "    except TweepError:\n",
    "        continue\n",
    "    except StopIteration:\n",
    "        break\n",
    "    for item in search_tweets:\n",
    "        data = self._create_object(item,hashtag)\n",
    "        tweet_dataset.append(data)\n",
    "        # crawler_task.delay(parent_id=self.crawl_obj_id, starting_user=self.starting_user,\n",
    "        #                     crawl_friends=self.crawl_friends)\n",
    "        if self._is_useful_entity(data):\n",
    "            pass\n",
    "            # Todo: Need to decide on how to process a tweet. This is connected to is_useful_entity function.\n",
    "        self._process_entity(tweet_dataset)\n",
    "        progress.update()\n",
    "progress.close()"
   ]
  }
 ],
 "metadata": {
  "interpreter": {
   "hash": "8148ccd35dea3a8be84672e8c27eb69bfb1410ff9e759f3957e44ddfd3ab2152"
  },
  "kernelspec": {
   "display_name": "Python 3 (ipykernel)",
   "language": "python",
   "name": "python3"
  },
  "language_info": {
   "codemirror_mode": {
    "name": "ipython",
    "version": 3
   },
   "file_extension": ".py",
   "mimetype": "text/x-python",
   "name": "python",
   "nbconvert_exporter": "python",
   "pygments_lexer": "ipython3",
   "version": "3.8.10"
  }
 },
 "nbformat": 4,
 "nbformat_minor": 4
}
