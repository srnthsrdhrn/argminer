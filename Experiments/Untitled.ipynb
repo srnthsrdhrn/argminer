{
 "cells": [
  {
   "cell_type": "code",
   "execution_count": 10,
   "id": "f77ea065-a134-4a7c-9d18-07c0996a634f",
   "metadata": {},
   "outputs": [],
   "source": [
    "import tweepy\n",
    "import json\n",
    "import math\n",
    "import glob\n",
    "import csv\n",
    "import zipfile\n",
    "import zlib\n",
    "import argparse\n",
    "import os\n",
    "import os.path as osp\n",
    "import pandas as pd\n",
    "from tweepy import TweepError\n",
    "from time import sleep\n",
    "from tqdm import tqdm"
   ]
  },
  {
   "cell_type": "code",
   "execution_count": 4,
   "id": "b073c758-ae98-48e9-a99d-54da4ef5d02b",
   "metadata": {},
   "outputs": [
    {
     "name": "stdout",
     "output_type": "stream",
     "text": [
      "/home/ubuntu/argminer/Experiments/HydratedTweets/000.csv_hydrated_tweets\n"
     ]
    }
   ],
   "source": [
    "output_file = \"/home/ubuntu/argminer/Experiments/HydratedTweets/000.csv_hydrated_tweets\"\n",
    "hydration_mode = \"e\"\n",
    "\n",
    "output_file_noformat = output_file.split(\".\",maxsplit=1)[0]\n",
    "print(output_file)\n",
    "output_file = '{}'.format(output_file)\n",
    "output_file_short = '{}_short.json'.format(output_file_noformat)"
   ]
  },
  {
   "cell_type": "code",
   "execution_count": 5,
   "id": "458f5ef2-b229-483c-8815-22e393c87be9",
   "metadata": {},
   "outputs": [
    {
     "data": {
      "text/plain": [
       "'/home/ubuntu/argminer/Experiments/HydratedTweets/000_short.json'"
      ]
     },
     "execution_count": 5,
     "metadata": {},
     "output_type": "execute_result"
    }
   ],
   "source": [
    "output_file_short"
   ]
  },
  {
   "cell_type": "code",
   "execution_count": 7,
   "id": "42d53b9b-d700-47d3-aaf0-624af44ce334",
   "metadata": {},
   "outputs": [],
   "source": [
    "def is_retweet(entry):\n",
    "    return 'retweeted_status' in entry.keys()\n",
    "\n",
    "def get_source(entry):\n",
    "    if '<' in entry[\"source\"]:\n",
    "        return entry[\"source\"].split('>')[1].split('<')[0]\n",
    "    else:\n",
    "        return entry[\"source\"]"
   ]
  },
  {
   "cell_type": "code",
   "execution_count": 9,
   "id": "7c09c5fe-9632-4ed8-8593-a3c77bdff45a",
   "metadata": {},
   "outputs": [
    {
     "ename": "TypeError",
     "evalue": "object of type '_io.TextIOWrapper' has no len()",
     "output_type": "error",
     "traceback": [
      "\u001b[0;31m---------------------------------------------------------------------------\u001b[0m",
      "\u001b[0;31mTypeError\u001b[0m                                 Traceback (most recent call last)",
      "Input \u001b[0;32mIn [9]\u001b[0m, in \u001b[0;36m<cell line: 1>\u001b[0;34m()\u001b[0m\n\u001b[0;32m----> 1\u001b[0m \u001b[38;5;28;43mlen\u001b[39;49m\u001b[43m(\u001b[49m\u001b[43mjson_data\u001b[49m\u001b[43m)\u001b[49m\n",
      "\u001b[0;31mTypeError\u001b[0m: object of type '_io.TextIOWrapper' has no len()"
     ]
    }
   ],
   "source": []
  },
  {
   "cell_type": "code",
   "execution_count": 11,
   "id": "a19f7f4e-baca-48bc-9a46-96d78d361f0e",
   "metadata": {},
   "outputs": [
    {
     "name": "stdout",
     "output_type": "stream",
     "text": [
      "creating minimized json master file\n"
     ]
    },
    {
     "name": "stderr",
     "output_type": "stream",
     "text": [
      "416118it [00:33, 12575.82it/s]\n"
     ]
    },
    {
     "ename": "JSONDecodeError",
     "evalue": "Expecting value: line 1 column 1672 (char 1671)",
     "output_type": "error",
     "traceback": [
      "\u001b[0;31m---------------------------------------------------------------------------\u001b[0m",
      "\u001b[0;31mJSONDecodeError\u001b[0m                           Traceback (most recent call last)",
      "Input \u001b[0;32mIn [11]\u001b[0m, in \u001b[0;36m<cell line: 2>\u001b[0;34m()\u001b[0m\n\u001b[1;32m      3\u001b[0m \u001b[38;5;28;01mwith\u001b[39;00m \u001b[38;5;28mopen\u001b[39m(output_file) \u001b[38;5;28;01mas\u001b[39;00m json_data:\n\u001b[1;32m      4\u001b[0m     \u001b[38;5;28;01mfor\u001b[39;00m tweet \u001b[38;5;129;01min\u001b[39;00m tqdm(json_data):\n\u001b[0;32m----> 5\u001b[0m         data \u001b[38;5;241m=\u001b[39m \u001b[43mjson\u001b[49m\u001b[38;5;241;43m.\u001b[39;49m\u001b[43mloads\u001b[49m\u001b[43m(\u001b[49m\u001b[43mtweet\u001b[49m\u001b[43m)\u001b[49m \n\u001b[1;32m      6\u001b[0m         \u001b[38;5;28;01mif\u001b[39;00m hydration_mode \u001b[38;5;241m==\u001b[39m \u001b[38;5;124m\"\u001b[39m\u001b[38;5;124me\u001b[39m\u001b[38;5;124m\"\u001b[39m:\n\u001b[1;32m      7\u001b[0m             text \u001b[38;5;241m=\u001b[39m data[\u001b[38;5;124m\"\u001b[39m\u001b[38;5;124mfull_text\u001b[39m\u001b[38;5;124m\"\u001b[39m]\n",
      "File \u001b[0;32m/usr/lib/python3.8/json/__init__.py:357\u001b[0m, in \u001b[0;36mloads\u001b[0;34m(s, cls, object_hook, parse_float, parse_int, parse_constant, object_pairs_hook, **kw)\u001b[0m\n\u001b[1;32m    352\u001b[0m     \u001b[38;5;28;01mdel\u001b[39;00m kw[\u001b[38;5;124m'\u001b[39m\u001b[38;5;124mencoding\u001b[39m\u001b[38;5;124m'\u001b[39m]\n\u001b[1;32m    354\u001b[0m \u001b[38;5;28;01mif\u001b[39;00m (\u001b[38;5;28mcls\u001b[39m \u001b[38;5;129;01mis\u001b[39;00m \u001b[38;5;28;01mNone\u001b[39;00m \u001b[38;5;129;01mand\u001b[39;00m object_hook \u001b[38;5;129;01mis\u001b[39;00m \u001b[38;5;28;01mNone\u001b[39;00m \u001b[38;5;129;01mand\u001b[39;00m\n\u001b[1;32m    355\u001b[0m         parse_int \u001b[38;5;129;01mis\u001b[39;00m \u001b[38;5;28;01mNone\u001b[39;00m \u001b[38;5;129;01mand\u001b[39;00m parse_float \u001b[38;5;129;01mis\u001b[39;00m \u001b[38;5;28;01mNone\u001b[39;00m \u001b[38;5;129;01mand\u001b[39;00m\n\u001b[1;32m    356\u001b[0m         parse_constant \u001b[38;5;129;01mis\u001b[39;00m \u001b[38;5;28;01mNone\u001b[39;00m \u001b[38;5;129;01mand\u001b[39;00m object_pairs_hook \u001b[38;5;129;01mis\u001b[39;00m \u001b[38;5;28;01mNone\u001b[39;00m \u001b[38;5;129;01mand\u001b[39;00m \u001b[38;5;129;01mnot\u001b[39;00m kw):\n\u001b[0;32m--> 357\u001b[0m     \u001b[38;5;28;01mreturn\u001b[39;00m \u001b[43m_default_decoder\u001b[49m\u001b[38;5;241;43m.\u001b[39;49m\u001b[43mdecode\u001b[49m\u001b[43m(\u001b[49m\u001b[43ms\u001b[49m\u001b[43m)\u001b[49m\n\u001b[1;32m    358\u001b[0m \u001b[38;5;28;01mif\u001b[39;00m \u001b[38;5;28mcls\u001b[39m \u001b[38;5;129;01mis\u001b[39;00m \u001b[38;5;28;01mNone\u001b[39;00m:\n\u001b[1;32m    359\u001b[0m     \u001b[38;5;28mcls\u001b[39m \u001b[38;5;241m=\u001b[39m JSONDecoder\n",
      "File \u001b[0;32m/usr/lib/python3.8/json/decoder.py:337\u001b[0m, in \u001b[0;36mJSONDecoder.decode\u001b[0;34m(self, s, _w)\u001b[0m\n\u001b[1;32m    332\u001b[0m \u001b[38;5;28;01mdef\u001b[39;00m \u001b[38;5;21mdecode\u001b[39m(\u001b[38;5;28mself\u001b[39m, s, _w\u001b[38;5;241m=\u001b[39mWHITESPACE\u001b[38;5;241m.\u001b[39mmatch):\n\u001b[1;32m    333\u001b[0m     \u001b[38;5;124;03m\"\"\"Return the Python representation of ``s`` (a ``str`` instance\u001b[39;00m\n\u001b[1;32m    334\u001b[0m \u001b[38;5;124;03m    containing a JSON document).\u001b[39;00m\n\u001b[1;32m    335\u001b[0m \n\u001b[1;32m    336\u001b[0m \u001b[38;5;124;03m    \"\"\"\u001b[39;00m\n\u001b[0;32m--> 337\u001b[0m     obj, end \u001b[38;5;241m=\u001b[39m \u001b[38;5;28;43mself\u001b[39;49m\u001b[38;5;241;43m.\u001b[39;49m\u001b[43mraw_decode\u001b[49m\u001b[43m(\u001b[49m\u001b[43ms\u001b[49m\u001b[43m,\u001b[49m\u001b[43m \u001b[49m\u001b[43midx\u001b[49m\u001b[38;5;241;43m=\u001b[39;49m\u001b[43m_w\u001b[49m\u001b[43m(\u001b[49m\u001b[43ms\u001b[49m\u001b[43m,\u001b[49m\u001b[43m \u001b[49m\u001b[38;5;241;43m0\u001b[39;49m\u001b[43m)\u001b[49m\u001b[38;5;241;43m.\u001b[39;49m\u001b[43mend\u001b[49m\u001b[43m(\u001b[49m\u001b[43m)\u001b[49m\u001b[43m)\u001b[49m\n\u001b[1;32m    338\u001b[0m     end \u001b[38;5;241m=\u001b[39m _w(s, end)\u001b[38;5;241m.\u001b[39mend()\n\u001b[1;32m    339\u001b[0m     \u001b[38;5;28;01mif\u001b[39;00m end \u001b[38;5;241m!=\u001b[39m \u001b[38;5;28mlen\u001b[39m(s):\n",
      "File \u001b[0;32m/usr/lib/python3.8/json/decoder.py:355\u001b[0m, in \u001b[0;36mJSONDecoder.raw_decode\u001b[0;34m(self, s, idx)\u001b[0m\n\u001b[1;32m    353\u001b[0m     obj, end \u001b[38;5;241m=\u001b[39m \u001b[38;5;28mself\u001b[39m\u001b[38;5;241m.\u001b[39mscan_once(s, idx)\n\u001b[1;32m    354\u001b[0m \u001b[38;5;28;01mexcept\u001b[39;00m \u001b[38;5;167;01mStopIteration\u001b[39;00m \u001b[38;5;28;01mas\u001b[39;00m err:\n\u001b[0;32m--> 355\u001b[0m     \u001b[38;5;28;01mraise\u001b[39;00m JSONDecodeError(\u001b[38;5;124m\"\u001b[39m\u001b[38;5;124mExpecting value\u001b[39m\u001b[38;5;124m\"\u001b[39m, s, err\u001b[38;5;241m.\u001b[39mvalue) \u001b[38;5;28;01mfrom\u001b[39;00m \u001b[38;5;28mNone\u001b[39m\n\u001b[1;32m    356\u001b[0m \u001b[38;5;28;01mreturn\u001b[39;00m obj, end\n",
      "\u001b[0;31mJSONDecodeError\u001b[0m: Expecting value: line 1 column 1672 (char 1671)"
     ]
    }
   ],
   "source": [
    "print('creating minimized json master file')\n",
    "with open(output_file_short, 'w') as outfile:\n",
    "    with open(output_file) as json_data:\n",
    "        for tweet in tqdm(json_data):\n",
    "            data = json.loads(tweet) \n",
    "            if hydration_mode == \"e\":\n",
    "                text = data[\"full_text\"]\n",
    "            else:\n",
    "                text = data[\"text\"]          \n",
    "            t = {\n",
    "                \"created_at\": data[\"created_at\"],\n",
    "                \"text\": text,\n",
    "                \"in_reply_to_screen_name\": data[\"in_reply_to_screen_name\"],\n",
    "                \"retweet_count\": data[\"retweet_count\"],\n",
    "                \"favorite_count\": data[\"favorite_count\"],\n",
    "                \"source\": get_source(data),\n",
    "                \"id_str\": data[\"id_str\"],\n",
    "                \"is_retweet\": is_retweet(data)\n",
    "            }\n",
    "            json.dump(t, outfile)\n",
    "            outfile.write('\\n')"
   ]
  },
  {
   "cell_type": "code",
   "execution_count": 12,
   "id": "f868c703-e2c2-4fa1-a7a9-0b172da6de03",
   "metadata": {},
   "outputs": [
    {
     "name": "stdout",
     "output_type": "stream",
     "text": [
      "creating CSV version of minimized json master file\n"
     ]
    }
   ],
   "source": [
    "f = csv.writer(open('{}.csv'.format(output_file_noformat), 'w'))\n",
    "print('creating CSV version of minimized json master file') \n",
    "fields = [\"favorite_count\", \"source\", \"text\", \"in_reply_to_screen_name\", \"is_retweet\", \"created_at\", \"retweet_count\", \"id_str\"]                \n",
    "f.writerow(fields)       \n",
    "with open(output_file_short) as master_file:\n",
    "    for tweet in master_file:\n",
    "        data = json.loads(tweet)            \n",
    "        f.writerow([data[\"favorite_count\"], data[\"source\"], data[\"text\"].encode('utf-8'), data[\"in_reply_to_screen_name\"], data[\"is_retweet\"], data[\"created_at\"], data[\"retweet_count\"], data[\"id_str\"].encode('utf-8')])\n"
   ]
  },
  {
   "cell_type": "code",
   "execution_count": 13,
   "id": "b6d1d94f-0686-417b-8ea8-e96629ef2820",
   "metadata": {},
   "outputs": [],
   "source": [
    "import pandas as pd"
   ]
  },
  {
   "cell_type": "code",
   "execution_count": 14,
   "id": "bd029eef-b90b-4665-b865-a7013f969bb1",
   "metadata": {},
   "outputs": [],
   "source": [
    "df = pd.read_csv(\"HydratedTweets/000.csv\")"
   ]
  },
  {
   "cell_type": "code",
   "execution_count": 15,
   "id": "912cc1a3-bad3-496a-86a5-714fe2162bae",
   "metadata": {},
   "outputs": [
    {
     "data": {
      "text/plain": [
       "(416106, 8)"
      ]
     },
     "execution_count": 15,
     "metadata": {},
     "output_type": "execute_result"
    }
   ],
   "source": [
    "df.shape"
   ]
  },
  {
   "cell_type": "code",
   "execution_count": 28,
   "id": "8abdd0f2-cb64-4abf-bd30-7dc6284f2f2d",
   "metadata": {},
   "outputs": [],
   "source": [
    "df['text'] = df.text.apply(lambda x : eval(x).decode() if type(eval(x)) != str else eval(x))"
   ]
  },
  {
   "cell_type": "code",
   "execution_count": 29,
   "id": "978c318a-e803-4014-90be-b3422fae7599",
   "metadata": {},
   "outputs": [
    {
     "data": {
      "text/html": [
       "<div>\n",
       "<style scoped>\n",
       "    .dataframe tbody tr th:only-of-type {\n",
       "        vertical-align: middle;\n",
       "    }\n",
       "\n",
       "    .dataframe tbody tr th {\n",
       "        vertical-align: top;\n",
       "    }\n",
       "\n",
       "    .dataframe thead th {\n",
       "        text-align: right;\n",
       "    }\n",
       "</style>\n",
       "<table border=\"1\" class=\"dataframe\">\n",
       "  <thead>\n",
       "    <tr style=\"text-align: right;\">\n",
       "      <th></th>\n",
       "      <th>favorite_count</th>\n",
       "      <th>source</th>\n",
       "      <th>text</th>\n",
       "      <th>in_reply_to_screen_name</th>\n",
       "      <th>is_retweet</th>\n",
       "      <th>created_at</th>\n",
       "      <th>retweet_count</th>\n",
       "      <th>id_str</th>\n",
       "    </tr>\n",
       "  </thead>\n",
       "  <tbody>\n",
       "    <tr>\n",
       "      <th>0</th>\n",
       "      <td>1</td>\n",
       "      <td>Twitter for iPhone</td>\n",
       "      <td>@SkyNewsBreak I had the coronavirus last year ...</td>\n",
       "      <td>SkyNewsBreak</td>\n",
       "      <td>False</td>\n",
       "      <td>Mon Jan 20 17:22:25 +0000 2020</td>\n",
       "      <td>0</td>\n",
       "      <td>b'1219309217015717888'</td>\n",
       "    </tr>\n",
       "    <tr>\n",
       "      <th>1</th>\n",
       "      <td>0</td>\n",
       "      <td>Twitter for iPhone</td>\n",
       "      <td>@shehryar_taseer That’s 💯 true , \\nCorona viru...</td>\n",
       "      <td>shehryar_taseer</td>\n",
       "      <td>False</td>\n",
       "      <td>Sat Jan 04 05:23:50 +0000 2020</td>\n",
       "      <td>0</td>\n",
       "      <td>b'1213330173736738817'</td>\n",
       "    </tr>\n",
       "    <tr>\n",
       "      <th>2</th>\n",
       "      <td>0</td>\n",
       "      <td>Twitter for Android</td>\n",
       "      <td>@tezuma75 Why #CCP keep on saying unknown caus...</td>\n",
       "      <td>tezuma75</td>\n",
       "      <td>False</td>\n",
       "      <td>Thu Jan 09 10:38:40 +0000 2020</td>\n",
       "      <td>0</td>\n",
       "      <td>b'1215221343479726081'</td>\n",
       "    </tr>\n",
       "    <tr>\n",
       "      <th>3</th>\n",
       "      <td>0</td>\n",
       "      <td>Twitter for Android</td>\n",
       "      <td>@lookner BBC has reported that coronavirus has...</td>\n",
       "      <td>lookner</td>\n",
       "      <td>False</td>\n",
       "      <td>Mon Jan 20 16:24:56 +0000 2020</td>\n",
       "      <td>0</td>\n",
       "      <td>b'1219294750844440576'</td>\n",
       "    </tr>\n",
       "    <tr>\n",
       "      <th>4</th>\n",
       "      <td>0</td>\n",
       "      <td>news2tw</td>\n",
       "      <td>Three U.S. Airports to Screen Passengers for C...</td>\n",
       "      <td>NaN</td>\n",
       "      <td>False</td>\n",
       "      <td>Fri Jan 17 19:08:02 +0000 2020</td>\n",
       "      <td>0</td>\n",
       "      <td>b'1218248632736067587'</td>\n",
       "    </tr>\n",
       "    <tr>\n",
       "      <th>...</th>\n",
       "      <td>...</td>\n",
       "      <td>...</td>\n",
       "      <td>...</td>\n",
       "      <td>...</td>\n",
       "      <td>...</td>\n",
       "      <td>...</td>\n",
       "      <td>...</td>\n",
       "      <td>...</td>\n",
       "    </tr>\n",
       "    <tr>\n",
       "      <th>416101</th>\n",
       "      <td>0</td>\n",
       "      <td>Twitter for iPad</td>\n",
       "      <td>#新冠肺炎\\nA global emergency.\\n※1/31/2020\\n#加油武汉 ...</td>\n",
       "      <td>menghu_nankuru</td>\n",
       "      <td>False</td>\n",
       "      <td>Fri Jan 31 11:47:09 +0000 2020</td>\n",
       "      <td>0</td>\n",
       "      <td>b'1223211110821613570'</td>\n",
       "    </tr>\n",
       "    <tr>\n",
       "      <th>416102</th>\n",
       "      <td>0</td>\n",
       "      <td>Twitter for Android</td>\n",
       "      <td>\"2 confirmed Coronavirus case is being treated...</td>\n",
       "      <td>NaN</td>\n",
       "      <td>False</td>\n",
       "      <td>Fri Jan 31 11:46:34 +0000 2020</td>\n",
       "      <td>0</td>\n",
       "      <td>b'1223210963152834560'</td>\n",
       "    </tr>\n",
       "    <tr>\n",
       "      <th>416103</th>\n",
       "      <td>2</td>\n",
       "      <td>Twitter Web App</td>\n",
       "      <td>@DeonRDoiron1 Please watch 201 video \\n\\nUN pr...</td>\n",
       "      <td>DeonRDoiron1</td>\n",
       "      <td>False</td>\n",
       "      <td>Fri Jan 31 11:47:13 +0000 2020</td>\n",
       "      <td>1</td>\n",
       "      <td>b'1223211128198782977'</td>\n",
       "    </tr>\n",
       "    <tr>\n",
       "      <th>416104</th>\n",
       "      <td>1</td>\n",
       "      <td>Twitter Web App</td>\n",
       "      <td>@FOLLOW_DA_BUCKS @SchoonerLita @HometoBilo @Ju...</td>\n",
       "      <td>FOLLOW_DA_BUCKS</td>\n",
       "      <td>False</td>\n",
       "      <td>Fri Jan 31 11:46:43 +0000 2020</td>\n",
       "      <td>0</td>\n",
       "      <td>b'1223211001287299072'</td>\n",
       "    </tr>\n",
       "    <tr>\n",
       "      <th>416105</th>\n",
       "      <td>0</td>\n",
       "      <td>dlvr.it</td>\n",
       "      <td>Health minister: Registration of students from...</td>\n",
       "      <td>NaN</td>\n",
       "      <td>False</td>\n",
       "      <td>Fri Jan 31 11:46:33 +0000 2020</td>\n",
       "      <td>0</td>\n",
       "      <td>b'1223210959348457473'</td>\n",
       "    </tr>\n",
       "  </tbody>\n",
       "</table>\n",
       "<p>416106 rows × 8 columns</p>\n",
       "</div>"
      ],
      "text/plain": [
       "        favorite_count               source  \\\n",
       "0                    1   Twitter for iPhone   \n",
       "1                    0   Twitter for iPhone   \n",
       "2                    0  Twitter for Android   \n",
       "3                    0  Twitter for Android   \n",
       "4                    0              news2tw   \n",
       "...                ...                  ...   \n",
       "416101               0     Twitter for iPad   \n",
       "416102               0  Twitter for Android   \n",
       "416103               2      Twitter Web App   \n",
       "416104               1      Twitter Web App   \n",
       "416105               0              dlvr.it   \n",
       "\n",
       "                                                     text  \\\n",
       "0       @SkyNewsBreak I had the coronavirus last year ...   \n",
       "1       @shehryar_taseer That’s 💯 true , \\nCorona viru...   \n",
       "2       @tezuma75 Why #CCP keep on saying unknown caus...   \n",
       "3       @lookner BBC has reported that coronavirus has...   \n",
       "4       Three U.S. Airports to Screen Passengers for C...   \n",
       "...                                                   ...   \n",
       "416101  #新冠肺炎\\nA global emergency.\\n※1/31/2020\\n#加油武汉 ...   \n",
       "416102  \"2 confirmed Coronavirus case is being treated...   \n",
       "416103  @DeonRDoiron1 Please watch 201 video \\n\\nUN pr...   \n",
       "416104  @FOLLOW_DA_BUCKS @SchoonerLita @HometoBilo @Ju...   \n",
       "416105  Health minister: Registration of students from...   \n",
       "\n",
       "       in_reply_to_screen_name  is_retweet                      created_at  \\\n",
       "0                 SkyNewsBreak       False  Mon Jan 20 17:22:25 +0000 2020   \n",
       "1              shehryar_taseer       False  Sat Jan 04 05:23:50 +0000 2020   \n",
       "2                     tezuma75       False  Thu Jan 09 10:38:40 +0000 2020   \n",
       "3                      lookner       False  Mon Jan 20 16:24:56 +0000 2020   \n",
       "4                          NaN       False  Fri Jan 17 19:08:02 +0000 2020   \n",
       "...                        ...         ...                             ...   \n",
       "416101          menghu_nankuru       False  Fri Jan 31 11:47:09 +0000 2020   \n",
       "416102                     NaN       False  Fri Jan 31 11:46:34 +0000 2020   \n",
       "416103            DeonRDoiron1       False  Fri Jan 31 11:47:13 +0000 2020   \n",
       "416104         FOLLOW_DA_BUCKS       False  Fri Jan 31 11:46:43 +0000 2020   \n",
       "416105                     NaN       False  Fri Jan 31 11:46:33 +0000 2020   \n",
       "\n",
       "        retweet_count                  id_str  \n",
       "0                   0  b'1219309217015717888'  \n",
       "1                   0  b'1213330173736738817'  \n",
       "2                   0  b'1215221343479726081'  \n",
       "3                   0  b'1219294750844440576'  \n",
       "4                   0  b'1218248632736067587'  \n",
       "...               ...                     ...  \n",
       "416101              0  b'1223211110821613570'  \n",
       "416102              0  b'1223210963152834560'  \n",
       "416103              1  b'1223211128198782977'  \n",
       "416104              0  b'1223211001287299072'  \n",
       "416105              0  b'1223210959348457473'  \n",
       "\n",
       "[416106 rows x 8 columns]"
      ]
     },
     "execution_count": 29,
     "metadata": {},
     "output_type": "execute_result"
    }
   ],
   "source": []
  },
  {
   "cell_type": "code",
   "execution_count": null,
   "id": "b521f6f7-e450-40a5-9945-889fed4e2ad8",
   "metadata": {},
   "outputs": [],
   "source": []
  }
 ],
 "metadata": {
  "kernelspec": {
   "display_name": "Python 3 (ipykernel)",
   "language": "python",
   "name": "python3"
  },
  "language_info": {
   "codemirror_mode": {
    "name": "ipython",
    "version": 3
   },
   "file_extension": ".py",
   "mimetype": "text/x-python",
   "name": "python",
   "nbconvert_exporter": "python",
   "pygments_lexer": "ipython3",
   "version": "3.8.10"
  }
 },
 "nbformat": 4,
 "nbformat_minor": 5
}
